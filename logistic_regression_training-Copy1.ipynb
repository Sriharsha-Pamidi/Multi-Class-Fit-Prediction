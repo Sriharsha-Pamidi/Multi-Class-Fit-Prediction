{
 "cells": [
  {
   "cell_type": "code",
   "execution_count": 1,
   "id": "5d2627e2",
   "metadata": {},
   "outputs": [
    {
     "name": "stderr",
     "output_type": "stream",
     "text": [
      "/home/nidhi/Documents/fall2021/cse258/myvirtualenv/my_project_env/lib/python3.7/site-packages/pandas/compat/__init__.py:124: UserWarning: Could not import the lzma module. Your installed Python is incomplete. Attempting to use lzma compression will result in a RuntimeError.\n",
      "  warnings.warn(msg)\n"
     ]
    }
   ],
   "source": [
    "import pandas as pd\n",
    "import numpy as np\n",
    "from sklearn.linear_model import LogisticRegression\n",
    "from sklearn.metrics import accuracy_score, f1_score, precision_score, recall_score, confusion_matrix\n",
    "from imblearn.over_sampling import RandomOverSampler\n",
    "import math\n",
    "from sklearn.pipeline import make_pipeline\n",
    "from sklearn.preprocessing import StandardScaler, MinMaxScaler\n",
    "from sklearn import svm\n",
    "from sklearn.ensemble import RandomForestClassifier\n",
    "from collections import defaultdict"
   ]
  },
  {
   "cell_type": "code",
   "execution_count": 2,
   "id": "86cf8e00",
   "metadata": {},
   "outputs": [],
   "source": [
    "# Reading the data\n",
    "dataset = pd.read_json('data/renttherunway_final_data.json.gz', lines=True)\n",
    "dataset = dataset.dropna()\n",
    "dataset = dataset.drop(dataset[dataset['rented for']== \"party: cocktail\"].index)"
   ]
  },
  {
   "cell_type": "code",
   "execution_count": 3,
   "id": "c729f272",
   "metadata": {},
   "outputs": [
    {
     "name": "stderr",
     "output_type": "stream",
     "text": [
      "/home/nidhi/Documents/fall2021/cse258/myvirtualenv/my_project_env/lib/python3.7/site-packages/ipykernel_launcher.py:2: FutureWarning: Using short name for 'orient' is deprecated. Only the options: ('dict', list, 'series', 'split', 'records', 'index') will be used in a future version. Use one of the above to silence this warning.\n",
      "  \n"
     ]
    }
   ],
   "source": [
    "# Converting the data into list of dictionaries\n",
    "data = pd.DataFrame(dataset).to_dict('record')\n",
    "\n",
    "for d in data:\n",
    "    d['weight'] = int(d['weight'].split('lbs')[0])\n",
    "    if(int(d['height'].split(' ')[1].split('\"')[0])<10):\n",
    "        height2 = int(d['height'].split(' ')[1].split('\"')[0])*10\n",
    "    else:\n",
    "        height2 = int(d['height'].split(' ')[1].split('\"')[0])\n",
    "    d['height'] = int(d['height'][0][0])*100+height2\n",
    "    \n",
    "# Converting categroies type to one hot\n",
    "catogeries = ['rented for','body type']\n",
    "for cat in catogeries:\n",
    "    categories_list = defaultdict(int)\n",
    "    for d in data:\n",
    "        categories_list[d[cat]] += 1\n",
    "        \n",
    "    categories_id = defaultdict(int)\n",
    "\n",
    "    i = 0\n",
    "    for cID in  categories_list:\n",
    "        categories_id[cID] = i\n",
    "        i+=1\n",
    "    for d in data:\n",
    "        f = [0]*len(categories_list)\n",
    "        f[categories_id[d[cat]]] = 1\n",
    "        d[cat] = f[:len(categories_list)-1]"
   ]
  },
  {
   "cell_type": "code",
   "execution_count": 4,
   "id": "daa77a5d",
   "metadata": {},
   "outputs": [],
   "source": [
    "# Converting the data into list of dictionaries\n",
    "train_data = data[0:int(0.8*len(data))]\n",
    "test_data = data[int(0.8*len(data)):]"
   ]
  },
  {
   "cell_type": "code",
   "execution_count": 5,
   "id": "b5de000d",
   "metadata": {},
   "outputs": [
    {
     "data": {
      "text/plain": [
       "{'fit': 'fit',\n",
       " 'user_id': 420272,\n",
       " 'bust size': '34d',\n",
       " 'item_id': 2260466,\n",
       " 'weight': 137,\n",
       " 'rating': 10.0,\n",
       " 'rented for': [1, 0, 0, 0, 0, 0, 0],\n",
       " 'review_text': \"An adorable romper! Belt and zipper were a little hard to navigate in a full day of wear/bathroom use, but that's to be expected. Wish it had pockets, but other than that-- absolutely perfect! I got a million compliments.\",\n",
       " 'body type': [1, 0, 0, 0, 0, 0],\n",
       " 'review_summary': 'So many compliments!',\n",
       " 'category': 'romper',\n",
       " 'height': 580,\n",
       " 'size': 14,\n",
       " 'age': 28.0,\n",
       " 'review_date': 'April 20, 2016'}"
      ]
     },
     "execution_count": 5,
     "metadata": {},
     "output_type": "execute_result"
    }
   ],
   "source": [
    "train_data[0]"
   ]
  },
  {
   "cell_type": "code",
   "execution_count": 6,
   "id": "6fc14d24",
   "metadata": {},
   "outputs": [],
   "source": [
    "# Extracting features from the data\n",
    "def feature(d):\n",
    "    f = [1, d['rating'], len(d['review_text']), len(d['review_summary']), d['weight'], d['height'], d['bust size'][0:2]] + d['rented for'] + d['body type']\n",
    "    return f"
   ]
  },
  {
   "cell_type": "code",
   "execution_count": 7,
   "id": "b6e3d0c7",
   "metadata": {},
   "outputs": [],
   "source": [
    "# Generating train features\n",
    "X_train = [feature(d) for d in train_data]\n",
    "y_train = [d['fit'] for d in train_data]"
   ]
  },
  {
   "cell_type": "code",
   "execution_count": 8,
   "id": "9b043ac7",
   "metadata": {
    "scrolled": true
   },
   "outputs": [],
   "source": [
    "sampling_strategy = \"not majority\"\n",
    "ros = RandomOverSampler(sampling_strategy=sampling_strategy)\n",
    "X_res, y_res = ros.fit_resample(X_train, y_train)"
   ]
  },
  {
   "cell_type": "code",
   "execution_count": 9,
   "id": "417cce3e",
   "metadata": {},
   "outputs": [],
   "source": [
    "# pipe = make_pipeline(StandardScaler(), MinMaxScaler(), LogisticRegression(random_state=0, multi_class='multinomial', class_weight='balanced'))\n",
    "\n",
    "pipe = make_pipeline(StandardScaler(), MinMaxScaler(), RandomForestClassifier(criterion='entropy', random_state=42, class_weight='balanced'))\n",
    "\n",
    "clf = pipe.fit(X_train, y_train)"
   ]
  },
  {
   "cell_type": "code",
   "execution_count": 10,
   "id": "2742f326",
   "metadata": {},
   "outputs": [
    {
     "name": "stdout",
     "output_type": "stream",
     "text": [
      "Train Accuracy: 0.9997352780434485\n",
      "Train F1 Score: 0.9997353075027428\n",
      "Train Precision Score: 0.9997353948668175\n",
      "Train Recall Score: 0.9997352780434485\n",
      "Train G-Mean Score: 0.9998706640490908\n"
     ]
    }
   ],
   "source": [
    "y_pred_train = clf.predict(X_train)\n",
    "\n",
    "# Measuring performace of train data\n",
    "train_accuracy = accuracy_score(y_train, y_pred_train)\n",
    "train_f1_score = f1_score(y_train, y_pred_train, average='weighted')\n",
    "train_precision_score = precision_score(y_train, y_pred_train, average='weighted')\n",
    "train_recall_score = recall_score(y_train, y_pred_train, average='weighted')\n",
    "\n",
    "cm = confusion_matrix(y_train, y_pred_train)\n",
    "TN = cm[0][0]\n",
    "FN = cm[1][0]\n",
    "TP = cm[1][1]\n",
    "FP = cm[0][1]\n",
    "train_g_mean = math.sqrt(TP*TN*1.0/((TP+FN)*(TN+FP)))\n",
    "\n",
    "print('Train Accuracy:', train_accuracy)\n",
    "print('Train F1 Score:', train_f1_score)\n",
    "print('Train Precision Score:', train_precision_score)\n",
    "print('Train Recall Score:', train_recall_score)\n",
    "print('Train G-Mean Score:', train_g_mean)"
   ]
  },
  {
   "cell_type": "code",
   "execution_count": 11,
   "id": "1eaf1676",
   "metadata": {},
   "outputs": [
    {
     "name": "stdout",
     "output_type": "stream",
     "text": [
      "Test Accuracy: 0.72854898210138\n",
      "Test F1 Score: 0.6468524837691504\n",
      "Test Precision Score: 0.6336589504671043\n",
      "Test Recall Score: 0.72854898210138\n",
      "Test G-Mean Score: 0.2355088173678689\n"
     ]
    }
   ],
   "source": [
    "# Generating test features\n",
    "X_test = [feature(d) for d in test_data]\n",
    "y_test = [d['fit'] for d in test_data]\n",
    "y_pred_test = clf.predict(X_test)\n",
    "\n",
    "# Measuring performace of test data\n",
    "test_accuracy = accuracy_score(y_test, y_pred_test)\n",
    "test_f1_score = f1_score(y_test, y_pred_test, average='weighted')\n",
    "test_precision_score = precision_score(y_test, y_pred_test, average='weighted')\n",
    "test_recall_score = recall_score(y_test, y_pred_test, average='weighted')\n",
    "\n",
    "cm = confusion_matrix(y_test, y_pred_test)\n",
    "TN = cm[0][0]\n",
    "FN = cm[1][0]\n",
    "TP = cm[1][1]\n",
    "FP = cm[0][1]\n",
    "test_g_mean = math.sqrt(TP*TN*1.0/((TP+FN)*(TN+FP)))\n",
    "\n",
    "print('Test Accuracy:', test_accuracy)\n",
    "print('Test F1 Score:', test_f1_score)\n",
    "print('Test Precision Score:', test_precision_score)\n",
    "print('Test Recall Score:', test_recall_score)\n",
    "print('Test G-Mean Score:', test_g_mean)"
   ]
  }
 ],
 "metadata": {
  "kernelspec": {
   "display_name": "Python 3 (ipykernel)",
   "language": "python",
   "name": "python3"
  },
  "language_info": {
   "codemirror_mode": {
    "name": "ipython",
    "version": 3
   },
   "file_extension": ".py",
   "mimetype": "text/x-python",
   "name": "python",
   "nbconvert_exporter": "python",
   "pygments_lexer": "ipython3",
   "version": "3.9.7"
  }
 },
 "nbformat": 4,
 "nbformat_minor": 5
}
