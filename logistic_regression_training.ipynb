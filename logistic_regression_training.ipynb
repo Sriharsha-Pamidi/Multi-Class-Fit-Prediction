{
 "cells": [
  {
   "cell_type": "code",
   "execution_count": 46,
   "id": "5d2627e2",
   "metadata": {},
   "outputs": [],
   "source": [
    "import pandas as pd\n",
    "import numpy as np\n",
    "from sklearn.linear_model import LogisticRegression\n",
    "from sklearn.metrics import accuracy_score, f1_score, precision_score, recall_score, confusion_matrix\n",
    "from imblearn.over_sampling import RandomOverSampler\n",
    "import math\n",
    "from sklearn.pipeline import make_pipeline\n",
    "from sklearn.preprocessing import StandardScaler, MinMaxScaler\n",
    "from sklearn import svm\n",
    "from sklearn.ensemble import RandomForestClassifier\n",
    "from collections import defaultdict\n",
    "from itertools import islice"
   ]
  },
  {
   "cell_type": "code",
   "execution_count": null,
   "id": "86cf8e00",
   "metadata": {},
   "outputs": [],
   "source": [
    "# Reading the data\n",
    "dataset = pd.read_json('data/renttherunway_final_data.json.gz', lines=True)\n",
    "dataset = dataset.dropna()"
   ]
  },
  {
   "cell_type": "code",
   "execution_count": null,
   "id": "f23f511f",
   "metadata": {},
   "outputs": [],
   "source": [
    "# Converting the data into list of dictionaries\n",
    "data = pd.DataFrame(dataset).to_dict('record')"
   ]
  },
  {
   "cell_type": "code",
   "execution_count": null,
   "id": "a88c988c",
   "metadata": {},
   "outputs": [],
   "source": [
    "for d in data:\n",
    "    d['weight'] = int(d['weight'].split('lbs')[0])\n",
    "    if(int(d['height'].split(' ')[1].split('\"')[0])<10):\n",
    "        height2 = int(d['height'].split(' ')[1].split('\"')[0])*10\n",
    "    else:\n",
    "        height2 = int(d['height'].split(' ')[1].split('\"')[0])\n",
    "    d['height'] = int(d['height'][0][0])*100+height2"
   ]
  },
  {
   "cell_type": "code",
   "execution_count": null,
   "id": "f25b42d0",
   "metadata": {},
   "outputs": [],
   "source": [
    "catogeries = ['rented for','body type']\n",
    "for cat in catogeries:\n",
    "    categories_list = defaultdict(int)\n",
    "    for d in data:\n",
    "        categories_list[d[cat]] += 1\n",
    "        \n",
    "    categories_id = defaultdict(int)\n",
    "\n",
    "    i = 0\n",
    "    for cID in  categories_list:\n",
    "        categories_id[cID] = i\n",
    "        i+=1\n",
    "    for d in data:\n",
    "        f = [0]*len(categories_list)\n",
    "        f[categories_id[d[cat]]] = 1\n",
    "        d[cat] = f[:len(categories_list)-1]"
   ]
  },
  {
   "cell_type": "code",
   "execution_count": null,
   "id": "c729f272",
   "metadata": {},
   "outputs": [],
   "source": [
    "# train_data, validation_data, test_data = np.split(data(frac=1, random_state=42), \n",
    "#                                                   [int(.7*len(data)), int(.85*len(data))])"
   ]
  },
  {
   "cell_type": "code",
   "execution_count": null,
   "id": "daa77a5d",
   "metadata": {},
   "outputs": [],
   "source": [
    "# Converting the data into list of dictionaries\n",
    "# train_data = pd.DataFrame(train_data).to_dict('record')\n",
    "# validation_data = pd.DataFrame(validation_data).to_dict('record')\n",
    "# test_data = pd.DataFrame(test_data).to_dict('record')"
   ]
  },
  {
   "cell_type": "code",
   "execution_count": null,
   "id": "876059a8",
   "metadata": {},
   "outputs": [],
   "source": [
    "total_count = len(data)\n",
    "seclist = [int(0.7*total_count), int(0.15*total_count), total_count-int(0.85*total_count)]\n",
    "it = iter(data)\n",
    "sliced =[list(islice(it, 0, i)) for i in seclist]\n",
    "train_data = sliced[0]\n",
    "validation_data = sliced[1]\n",
    "test_data = sliced[2]"
   ]
  },
  {
   "cell_type": "code",
   "execution_count": null,
   "id": "6fc14d24",
   "metadata": {},
   "outputs": [],
   "source": [
    "# Extracting features from the data\n",
    "def feature(d):\n",
    "    f = [1, d['rating'], len(d['review_text']), len(d['review_summary']), d['height'], d['weight']] + d['rented for'] + d['body type']\n",
    "    return f"
   ]
  },
  {
   "cell_type": "code",
   "execution_count": null,
   "id": "b6e3d0c7",
   "metadata": {},
   "outputs": [],
   "source": [
    "# Generating train features\n",
    "X_train = [feature(d) for d in train_data]\n",
    "y_train = [d['fit'] for d in train_data]"
   ]
  },
  {
   "cell_type": "code",
   "execution_count": null,
   "id": "3f516674",
   "metadata": {
    "scrolled": true
   },
   "outputs": [],
   "source": [
    "sampling_strategy = \"not majority\"\n",
    "ros = RandomOverSampler(sampling_strategy=sampling_strategy)\n",
    "X_res, y_res = ros.fit_resample(X_train, y_train)"
   ]
  },
  {
   "cell_type": "code",
   "execution_count": null,
   "id": "59de0750",
   "metadata": {},
   "outputs": [],
   "source": [
    "# pipe = make_pipeline(StandardScaler(), MinMaxScaler(), LogisticRegression(random_state=0, multi_class='multinomial', class_weight='balanced'))\n",
    "\n",
    "# pipe = make_pipeline(svm.SVC(random_state=0, decision_function_shape='ovo', class_weight='balanced'))\n",
    "\n",
    "pipe = make_pipeline(StandardScaler(), MinMaxScaler(), \n",
    "                     RandomForestClassifier(random_state=0, n_estimators = 10, \n",
    "                                            criterion = 'entropy', class_weight='balanced',\n",
    "                                            bootstrap=True, max_depth=65, max_features='auto'))\n",
    "\n",
    "clf = pipe.fit(X_train, y_train)  # apply scaling on training data"
   ]
  },
  {
   "cell_type": "code",
   "execution_count": null,
   "id": "2742f326",
   "metadata": {},
   "outputs": [],
   "source": [
    "y_pred_train = clf.predict(X_train)\n",
    "\n",
    "# Measuring performace of train data\n",
    "train_accuracy = accuracy_score(y_train, y_pred_train)\n",
    "train_f1_score = f1_score(y_train, y_pred_train, average='weighted')\n",
    "train_precision_score = precision_score(y_train, y_pred_train, average='weighted')\n",
    "train_recall_score = recall_score(y_train, y_pred_train, average='weighted')\n",
    "\n",
    "cm = confusion_matrix(y_train, y_pred_train)\n",
    "TN = cm[0][0]\n",
    "FN = cm[1][0]\n",
    "TP = cm[1][1]\n",
    "FP = cm[0][1]\n",
    "train_g_mean = math.sqrt(TP*TN*1.0/((TP+FN)*(TN+FP)))\n",
    "\n",
    "print('Train Accuracy:', train_accuracy)\n",
    "print('Train F1 Score:', train_f1_score)\n",
    "print('Train Precision Score:', train_precision_score)\n",
    "print('Train Recall Score:', train_recall_score)\n",
    "print('Train G-Mean Score:', train_g_mean)"
   ]
  },
  {
   "cell_type": "code",
   "execution_count": null,
   "id": "1eaf1676",
   "metadata": {},
   "outputs": [],
   "source": [
    "# Generating test features\n",
    "X_test = [feature(d) for d in test_data]\n",
    "y_test = [d['fit'] for d in test_data]\n",
    "y_pred_test = clf.predict(X_test)\n",
    "\n",
    "# Measuring performace of test data\n",
    "test_accuracy = accuracy_score(y_test, y_pred_test)\n",
    "test_f1_score = f1_score(y_test, y_pred_test, average='weighted')\n",
    "test_precision_score = precision_score(y_test, y_pred_test, average='weighted')\n",
    "test_recall_score = recall_score(y_test, y_pred_test, average='weighted')\n",
    "\n",
    "cm = confusion_matrix(y_test, y_pred_test)\n",
    "TN = cm[0][0]\n",
    "FN = cm[1][0]\n",
    "TP = cm[1][1]\n",
    "FP = cm[0][1]\n",
    "test_g_mean = math.sqrt(TP*TN*1.0/((TP+FN)*(TN+FP)))\n",
    "print('Test Accuracy:', test_accuracy)\n",
    "print('Test F1 Score:', test_f1_score)\n",
    "print('Test Precision Score:', test_precision_score)\n",
    "print('Test Recall Score:', test_recall_score)\n",
    "print('Test G-Mean Score:', test_g_mean)"
   ]
  },
  {
   "cell_type": "code",
   "execution_count": null,
   "id": "ed9601bc",
   "metadata": {},
   "outputs": [],
   "source": [
    "# Generating validation features\n",
    "X_val = [feature(d) for d in validation_data]\n",
    "y_val = [d['fit'] for d in validation_data]\n",
    "y_pred_val = clf.predict(X_val)\n",
    "\n",
    "# Measuring performace of validation data\n",
    "val_accuracy = accuracy_score(y_val, y_pred_val)\n",
    "val_f1_score = f1_score(y_val, y_pred_val, average='weighted')\n",
    "val_precision_score = precision_score(y_test, y_pred_test, average='weighted')\n",
    "val_recall_score = recall_score(y_test, y_pred_test, average='weighted')\n",
    "\n",
    "cm = confusion_matrix(y_val, y_pred_val)\n",
    "TN = cm[0][0]\n",
    "FN = cm[1][0]\n",
    "TP = cm[1][1]\n",
    "FP = cm[0][1]\n",
    "val_g_mean = math.sqrt(TP*TN*1.0/((TP+FN)*(TN+FP)))\n",
    "print('Validation Accuracy:', val_accuracy)\n",
    "print('Validation F1 Score:', val_f1_score)\n",
    "print('Validation Precision Score:', val_precision_score)\n",
    "print('Validation Recall Score:', val_recall_score)\n",
    "print('Validation G-Mean Score:', val_g_mean)"
   ]
  }
 ],
 "metadata": {
  "kernelspec": {
   "display_name": "Python 3 (ipykernel)",
   "language": "python",
   "name": "python3"
  },
  "language_info": {
   "codemirror_mode": {
    "name": "ipython",
    "version": 3
   },
   "file_extension": ".py",
   "mimetype": "text/x-python",
   "name": "python",
   "nbconvert_exporter": "python",
   "pygments_lexer": "ipython3",
   "version": "3.7.10"
  }
 },
 "nbformat": 4,
 "nbformat_minor": 5
}
