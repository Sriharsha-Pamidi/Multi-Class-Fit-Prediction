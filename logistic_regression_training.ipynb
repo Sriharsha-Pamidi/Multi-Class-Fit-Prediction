{
 "cells": [
  {
   "cell_type": "code",
   "execution_count": 44,
   "id": "5d2627e2",
   "metadata": {},
   "outputs": [],
   "source": [
    "import pandas as pd\n",
    "import numpy as np\n",
    "from sklearn.linear_model import LogisticRegression\n",
    "from sklearn.metrics import accuracy_score, f1_score, precision_score, recall_score, confusion_matrix\n",
    "from imblearn.over_sampling import RandomOverSampler\n",
    "import math"
   ]
  },
  {
   "cell_type": "code",
   "execution_count": 5,
   "id": "86cf8e00",
   "metadata": {},
   "outputs": [],
   "source": [
    "# Reading the data\n",
    "dataset = pd.read_json('renttherunway_final_data.json.gz', lines=True)\n",
    "dataset = dataset.dropna()"
   ]
  },
  {
   "cell_type": "code",
   "execution_count": 6,
   "id": "c729f272",
   "metadata": {},
   "outputs": [],
   "source": [
    "train_data, validation_data, test_data = np.split(dataset.sample(frac=1, random_state=42), \n",
    "                                                  [int(.7*len(dataset)), int(.85*len(dataset))])"
   ]
  },
  {
   "cell_type": "code",
   "execution_count": 7,
   "id": "daa77a5d",
   "metadata": {},
   "outputs": [
    {
     "name": "stderr",
     "output_type": "stream",
     "text": [
      "/home/nidhi/Documents/fall2021/cse258/myvirtualenv/my_project_env/lib/python3.7/site-packages/ipykernel_launcher.py:2: FutureWarning: Using short name for 'orient' is deprecated. Only the options: ('dict', list, 'series', 'split', 'records', 'index') will be used in a future version. Use one of the above to silence this warning.\n",
      "  \n",
      "/home/nidhi/Documents/fall2021/cse258/myvirtualenv/my_project_env/lib/python3.7/site-packages/ipykernel_launcher.py:3: FutureWarning: Using short name for 'orient' is deprecated. Only the options: ('dict', list, 'series', 'split', 'records', 'index') will be used in a future version. Use one of the above to silence this warning.\n",
      "  This is separate from the ipykernel package so we can avoid doing imports until\n",
      "/home/nidhi/Documents/fall2021/cse258/myvirtualenv/my_project_env/lib/python3.7/site-packages/ipykernel_launcher.py:4: FutureWarning: Using short name for 'orient' is deprecated. Only the options: ('dict', list, 'series', 'split', 'records', 'index') will be used in a future version. Use one of the above to silence this warning.\n",
      "  after removing the cwd from sys.path.\n"
     ]
    }
   ],
   "source": [
    "# Converting the data into list of dictionaries\n",
    "train_data = pd.DataFrame(train_data).to_dict('record')\n",
    "validation_data = pd.DataFrame(validation_data).to_dict('record')\n",
    "test_data = pd.DataFrame(test_data).to_dict('record')"
   ]
  },
  {
   "cell_type": "code",
   "execution_count": 8,
   "id": "6fc14d24",
   "metadata": {},
   "outputs": [],
   "source": [
    "# Extracting features from the data\n",
    "def feature(d):\n",
    "    f = [1, d['rating'], len(d['review_text']), len(d['review_summary'])]\n",
    "    return f"
   ]
  },
  {
   "cell_type": "code",
   "execution_count": 23,
   "id": "b6e3d0c7",
   "metadata": {},
   "outputs": [
    {
     "name": "stdout",
     "output_type": "stream",
     "text": [
      "13303\n",
      "75464\n",
      "13699\n"
     ]
    }
   ],
   "source": [
    "# Generating train features\n",
    "X_train = [feature(d) for d in train_data]\n",
    "y_train = [d['fit'] for d in train_data]\n",
    "\n",
    "c1 = 0\n",
    "for i in y_train:\n",
    "    if (i=='large'):\n",
    "        c1+=1\n",
    "print(c1)\n",
    "\n",
    "c1 = 0\n",
    "for i in y_train:\n",
    "    if (i=='fit'):\n",
    "        c1+=1\n",
    "print(c1)\n",
    "\n",
    "c1 = 0\n",
    "for i in y_train:\n",
    "    if (i=='small'):\n",
    "        c1+=1\n",
    "print(c1)"
   ]
  },
  {
   "cell_type": "code",
   "execution_count": 19,
   "id": "680ab84c",
   "metadata": {},
   "outputs": [
    {
     "name": "stdout",
     "output_type": "stream",
     "text": [
      "75464\n",
      "75464\n",
      "75464\n"
     ]
    }
   ],
   "source": [
    "sampling_strategy = \"not majority\"\n",
    "ros = RandomOverSampler(sampling_strategy=sampling_strategy)\n",
    "X_res, y_res = ros.fit_resample(X_train, y_train)\n",
    "\n",
    "c1 = 0\n",
    "for i in y_res:\n",
    "    if (i=='large'):\n",
    "        c1+=1\n",
    "print(c1)\n",
    "\n",
    "c1 = 0\n",
    "for i in y_res:\n",
    "    if (i=='fit'):\n",
    "        c1+=1\n",
    "print(c1)\n",
    "\n",
    "c1 = 0\n",
    "for i in y_res:\n",
    "    if (i=='small'):\n",
    "        c1+=1\n",
    "print(c1)"
   ]
  },
  {
   "cell_type": "code",
   "execution_count": 25,
   "id": "2bc241a2",
   "metadata": {},
   "outputs": [],
   "source": [
    "# Training multiclass logistic regressingX_res\n",
    "clf = LogisticRegression(random_state=0, multi_class='multinomial', class_weight='balanced').fit(X_train, y_train)"
   ]
  },
  {
   "cell_type": "code",
   "execution_count": 48,
   "id": "2742f326",
   "metadata": {},
   "outputs": [
    {
     "name": "stdout",
     "output_type": "stream",
     "text": [
      "Train Accuracy: 0.5844865613959752\n",
      "Train F1 Score: 0.6044056953384007\n",
      "Train Precision Score: 0.6463100014269964\n",
      "Train Recall Score: 0.5844865613959752\n",
      "Train G-Mean Score: 0.39650466693491326\n"
     ]
    }
   ],
   "source": [
    "y_pred_train = clf.predict(X_train)\n",
    "\n",
    "# Measuring performace of train data\n",
    "train_accuracy = accuracy_score(y_train, y_pred_train)\n",
    "train_f1_score = f1_score(y_train, y_pred_train, average='weighted')\n",
    "train_precision_score = precision_score(y_train, y_pred_train, average='weighted')\n",
    "train_recall_score = recall_score(y_train, y_pred_train, average='weighted')\n",
    "\n",
    "cm = confusion_matrix(y_train, y_pred_train)\n",
    "TN = cm[0][0]\n",
    "FN = cm[1][0]\n",
    "TP = cm[1][1]\n",
    "FP = cm[0][1]\n",
    "train_g_mean = math.sqrt(TP*TN*1.0/((TP+FN)*(TN+FP)))\n",
    "\n",
    "print('Train Accuracy:', train_accuracy)\n",
    "print('Train F1 Score:', train_f1_score)\n",
    "print('Train Precision Score:', train_precision_score)\n",
    "print('Train Recall Score:', train_recall_score)\n",
    "print('Train G-Mean Score:', train_g_mean)"
   ]
  },
  {
   "cell_type": "code",
   "execution_count": 27,
   "id": "1eaf1676",
   "metadata": {},
   "outputs": [
    {
     "name": "stdout",
     "output_type": "stream",
     "text": [
      "{'large', 'fit', 'small'}\n",
      "{'large', 'fit', 'small'}\n",
      "21958\n",
      "13773\n",
      "16146\n",
      "Test Accuracy: 0.5874851990163038\n",
      "Test F1 Score: 0.6065264203968393\n"
     ]
    }
   ],
   "source": [
    "# Generating test features\n",
    "X_test = [feature(d) for d in test_data]\n",
    "y_test = [d['fit'] for d in test_data]\n",
    "y_pred_test = clf.predict(X_test)\n",
    "\n",
    "# Data Analysis / Data Statisics - To be used for question-1\n",
    "print(set(y_test))\n",
    "print(set(y_pred_test))\n",
    "\n",
    "print(len(y_pred_test))\n",
    "count = 0\n",
    "for i in y_pred_test:\n",
    "    if i == 'fit':\n",
    "        count += 1\n",
    "print(count)\n",
    "\n",
    "count = 0\n",
    "for i in y_test:\n",
    "    if i == 'fit':\n",
    "        count += 1\n",
    "print(count)\n",
    "\n",
    "# Measuring performace of test data\n",
    "test_accuracy = accuracy_score(y_test, y_pred_test)\n",
    "test_f1_score = f1_score(y_test, y_pred_test, average='weighted')\n",
    "print('Test Accuracy:', test_accuracy)\n",
    "print('Test F1 Score:', test_f1_score)"
   ]
  },
  {
   "cell_type": "code",
   "execution_count": 28,
   "id": "ed9601bc",
   "metadata": {},
   "outputs": [
    {
     "name": "stdout",
     "output_type": "stream",
     "text": [
      "Validation Accuracy: 0.5799517238238375\n",
      "Validation F1 Score: 0.6065264203968393\n"
     ]
    }
   ],
   "source": [
    "# Generating validation features\n",
    "X_val = [feature(d) for d in validation_data]\n",
    "y_val = [d['fit'] for d in validation_data]\n",
    "y_pred_val = clf.predict(X_val)\n",
    "\n",
    "# Measuring performace of validation data\n",
    "val_accuracy = accuracy_score(y_val, y_pred_val)\n",
    "val_f1_score = f1_score(y_val, y_pred_val, average='weighted')\n",
    "print('Validation Accuracy:', val_accuracy)\n",
    "print('Validation F1 Score:', test_f1_score)"
   ]
  }
 ],
 "metadata": {
  "kernelspec": {
   "display_name": "Python 3 (ipykernel)",
   "language": "python",
   "name": "python3"
  },
  "language_info": {
   "codemirror_mode": {
    "name": "ipython",
    "version": 3
   },
   "file_extension": ".py",
   "mimetype": "text/x-python",
   "name": "python",
   "nbconvert_exporter": "python",
   "pygments_lexer": "ipython3",
   "version": "3.7.10"
  }
 },
 "nbformat": 4,
 "nbformat_minor": 5
}
