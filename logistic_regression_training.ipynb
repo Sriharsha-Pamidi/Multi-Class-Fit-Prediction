{
 "cells": [
  {
   "cell_type": "code",
<<<<<<< HEAD
   "execution_count": 70,
=======
<<<<<<< HEAD
   "execution_count": 1,
=======
   "execution_count": 52,
>>>>>>> 733a1c445c3c1e065564d7bd99882d1cc07c7f7a
   "id": "5d2627e2",
>>>>>>> e1bca343a9ee5eccd83970b2b692c30673d5d6c6
   "metadata": {},
   "outputs": [],
   "source": [
    "import pandas as pd\n",
    "import numpy as np\n",
    "from sklearn.linear_model import LogisticRegression\n",
    "from sklearn.metrics import accuracy_score, f1_score, precision_score, recall_score, confusion_matrix\n",
    "from imblearn.over_sampling import RandomOverSampler\n",
    "import math\n",
    "from sklearn.pipeline import make_pipeline\n",
    "from sklearn.preprocessing import StandardScaler, MinMaxScaler\n",
    "from sklearn import svm\n",
    "from sklearn.ensemble import RandomForestClassifier\n",
    "from collections import defaultdict\n",
    "from itertools import islice"
   ]
  },
  {
   "cell_type": "code",
<<<<<<< HEAD
   "execution_count": 71,
=======
<<<<<<< HEAD
   "execution_count": 2,
=======
   "execution_count": 53,
>>>>>>> 733a1c445c3c1e065564d7bd99882d1cc07c7f7a
   "id": "86cf8e00",
>>>>>>> e1bca343a9ee5eccd83970b2b692c30673d5d6c6
   "metadata": {},
   "outputs": [],
   "source": [
    "# Reading the data\n",
    "dataset = pd.read_json('data/renttherunway_final_data.json.gz', lines=True)\n",
    "dataset = dataset.dropna()"
   ]
  },
  {
   "cell_type": "code",
<<<<<<< HEAD
   "execution_count": 72,
   "id": "f23f511f",
   "metadata": {},
   "outputs": [
    {
     "name": "stderr",
     "output_type": "stream",
     "text": [
      "/home/nidhi/Documents/fall2021/cse258/myvirtualenv/my_project_env/lib/python3.7/site-packages/ipykernel_launcher.py:2: FutureWarning: Using short name for 'orient' is deprecated. Only the options: ('dict', list, 'series', 'split', 'records', 'index') will be used in a future version. Use one of the above to silence this warning.\n",
      "  \n"
     ]
    }
   ],
   "source": [
    "# Converting the data into list of dictionaries\n",
    "data = pd.DataFrame(dataset).to_dict('record')"
   ]
  },
  {
   "cell_type": "code",
   "execution_count": 73,
   "id": "a88c988c",
   "metadata": {},
   "outputs": [],
   "source": [
    "for d in data:\n",
    "    d['weight'] = int(d['weight'].split('lbs')[0])\n",
    "    if(int(d['height'].split(' ')[1].split('\"')[0])<10):\n",
    "        height2 = int(d['height'].split(' ')[1].split('\"')[0])*10\n",
    "    else:\n",
    "        height2 = int(d['height'].split(' ')[1].split('\"')[0])\n",
    "    d['height'] = int(d['height'][0][0])*100+height2"
   ]
  },
  {
   "cell_type": "code",
   "execution_count": 74,
   "id": "f25b42d0",
   "metadata": {},
   "outputs": [],
   "source": [
    "catogeries = ['rented for','body type']\n",
    "for cat in catogeries:\n",
    "    categories_list = defaultdict(int)\n",
    "    for d in data:\n",
    "        categories_list[d[cat]] += 1\n",
    "        \n",
    "    categories_id = defaultdict(int)\n",
    "\n",
    "    i = 0\n",
    "    for cID in  categories_list:\n",
    "        categories_id[cID] = i\n",
    "        i+=1\n",
    "    for d in data:\n",
    "        f = [0]*len(categories_list)\n",
    "        f[categories_id[d[cat]]] = 1\n",
    "        d[cat] = f[:len(categories_list)-1]"
   ]
  },
  {
   "cell_type": "code",
   "execution_count": 75,
   "id": "876059a8",
=======
<<<<<<< HEAD
   "execution_count": 3,
=======
   "execution_count": 6,
   "id": "c729f272",
>>>>>>> e1bca343a9ee5eccd83970b2b692c30673d5d6c6
>>>>>>> 733a1c445c3c1e065564d7bd99882d1cc07c7f7a
   "metadata": {},
   "outputs": [],
   "source": [
    "total_count = len(data)\n",
    "seclist = [int(0.7*total_count), int(0.15*total_count), total_count-int(0.85*total_count)]\n",
    "it = iter(data)\n",
    "sliced =[list(islice(it, 0, i)) for i in seclist]\n",
    "train_data = sliced[0]\n",
    "validation_data = sliced[1]\n",
    "test_data = sliced[2]"
   ]
  },
  {
   "cell_type": "code",
<<<<<<< HEAD
   "execution_count": 76,
   "id": "19ce3eac",
   "metadata": {},
   "outputs": [
    {
     "data": {
      "text/plain": [
       "{'fit': 'fit',\n",
       " 'user_id': 420272,\n",
       " 'bust size': '34d',\n",
       " 'item_id': 2260466,\n",
       " 'weight': 137,\n",
       " 'rating': 10.0,\n",
       " 'rented for': [1, 0, 0, 0, 0, 0, 0, 0],\n",
       " 'review_text': \"An adorable romper! Belt and zipper were a little hard to navigate in a full day of wear/bathroom use, but that's to be expected. Wish it had pockets, but other than that-- absolutely perfect! I got a million compliments.\",\n",
       " 'body type': [1, 0, 0, 0, 0, 0],\n",
       " 'review_summary': 'So many compliments!',\n",
       " 'category': 'romper',\n",
       " 'height': 580,\n",
       " 'size': 14,\n",
       " 'age': 28.0,\n",
       " 'review_date': 'April 20, 2016'}"
      ]
     },
     "execution_count": 76,
     "metadata": {},
     "output_type": "execute_result"
=======
<<<<<<< HEAD
   "execution_count": 4,
=======
   "execution_count": 7,
   "id": "daa77a5d",
>>>>>>> e1bca343a9ee5eccd83970b2b692c30673d5d6c6
   "metadata": {},
   "outputs": [
    {
     "name": "stderr",
     "output_type": "stream",
     "text": [
<<<<<<< HEAD
      "/Users/Tim/opt/anaconda3/lib/python3.8/site-packages/pandas/core/frame.py:1485: FutureWarning: Using short name for 'orient' is deprecated. Only the options: ('dict', list, 'series', 'split', 'records', 'index') will be used in a future version. Use one of the above to silence this warning.\n",
      "  warnings.warn(\n"
=======
      "/home/nidhi/Documents/fall2021/cse258/myvirtualenv/my_project_env/lib/python3.7/site-packages/ipykernel_launcher.py:2: FutureWarning: Using short name for 'orient' is deprecated. Only the options: ('dict', list, 'series', 'split', 'records', 'index') will be used in a future version. Use one of the above to silence this warning.\n",
      "  \n",
      "/home/nidhi/Documents/fall2021/cse258/myvirtualenv/my_project_env/lib/python3.7/site-packages/ipykernel_launcher.py:3: FutureWarning: Using short name for 'orient' is deprecated. Only the options: ('dict', list, 'series', 'split', 'records', 'index') will be used in a future version. Use one of the above to silence this warning.\n",
      "  This is separate from the ipykernel package so we can avoid doing imports until\n",
      "/home/nidhi/Documents/fall2021/cse258/myvirtualenv/my_project_env/lib/python3.7/site-packages/ipykernel_launcher.py:4: FutureWarning: Using short name for 'orient' is deprecated. Only the options: ('dict', list, 'series', 'split', 'records', 'index') will be used in a future version. Use one of the above to silence this warning.\n",
      "  after removing the cwd from sys.path.\n"
>>>>>>> e1bca343a9ee5eccd83970b2b692c30673d5d6c6
     ]
>>>>>>> 733a1c445c3c1e065564d7bd99882d1cc07c7f7a
    }
   ],
   "source": [
    "train_data[0]"
   ]
  },
  {
   "cell_type": "code",
<<<<<<< HEAD
   "execution_count": 98,
=======
<<<<<<< HEAD
   "execution_count": 5,
=======
   "execution_count": 8,
>>>>>>> 733a1c445c3c1e065564d7bd99882d1cc07c7f7a
   "id": "6fc14d24",
>>>>>>> e1bca343a9ee5eccd83970b2b692c30673d5d6c6
   "metadata": {},
   "outputs": [],
   "source": [
    "# Extracting features from the data\n",
    "def feature(d):\n",
    "    f = [1, d['rating'], len(d['review_text']), len(d['review_summary']), int(d['bust size'][0:2]),\n",
    "         d['height'], d['weight'], d['age'] + d['size']] + d['rented for'] + d['body type']\n",
    "    return f"
   ]
  },
  {
   "cell_type": "code",
<<<<<<< HEAD
   "execution_count": 99,
=======
<<<<<<< HEAD
   "execution_count": 6,
=======
   "execution_count": 23,
>>>>>>> 733a1c445c3c1e065564d7bd99882d1cc07c7f7a
   "id": "b6e3d0c7",
>>>>>>> e1bca343a9ee5eccd83970b2b692c30673d5d6c6
   "metadata": {},
   "outputs": [],
   "source": [
    "# Generating train features\n",
    "X_train = [feature(d) for d in train_data]\n",
    "y_train = [d['fit'] for d in train_data]"
   ]
  },
  {
   "cell_type": "code",
<<<<<<< HEAD
   "execution_count": 100,
   "id": "3f516674",
   "metadata": {
    "scrolled": true
   },
   "outputs": [],
=======
<<<<<<< HEAD
   "execution_count": 7,
=======
   "execution_count": 19,
   "id": "9858539b",
   "metadata": {},
   "outputs": [
    {
     "name": "stdout",
     "output_type": "stream",
     "text": [
      "75464\n",
      "75464\n",
      "75464\n"
     ]
    }
   ],
>>>>>>> 733a1c445c3c1e065564d7bd99882d1cc07c7f7a
   "source": [
    "sampling_strategy = \"not majority\"\n",
    "ros = RandomOverSampler(sampling_strategy=sampling_strategy)\n",
    "X_res, y_res = ros.fit_resample(X_train, y_train)"
   ]
  },
  {
   "cell_type": "code",
<<<<<<< HEAD
   "execution_count": 101,
   "id": "59de0750",
=======
   "execution_count": 58,
   "id": "d84a6ecb",
>>>>>>> e1bca343a9ee5eccd83970b2b692c30673d5d6c6
>>>>>>> 733a1c445c3c1e065564d7bd99882d1cc07c7f7a
   "metadata": {},
   "outputs": [],
   "source": [
    "# pipe = make_pipeline(StandardScaler(), MinMaxScaler(), LogisticRegression(random_state=0, multi_class='multinomial', class_weight='balanced'))\n",
    "\n",
    "# pipe = make_pipeline(svm.SVC(random_state=0, decision_function_shape='ovo', class_weight='balanced'))\n",
    "\n",
    "pipe = make_pipeline(StandardScaler(), MinMaxScaler(), \n",
    "                     RandomForestClassifier(random_state=0, n_estimators = 10, \n",
    "                                            criterion = 'entropy', class_weight='balanced',\n",
    "                                            bootstrap=True, max_depth=65, max_features='auto'))\n",
    "\n",
    "clf = pipe.fit(X_train, y_train)  # apply scaling on training data"
   ]
  },
  {
   "cell_type": "code",
<<<<<<< HEAD
   "execution_count": 102,
=======
<<<<<<< HEAD
   "execution_count": 8,
=======
   "execution_count": 59,
>>>>>>> 733a1c445c3c1e065564d7bd99882d1cc07c7f7a
   "id": "2742f326",
>>>>>>> e1bca343a9ee5eccd83970b2b692c30673d5d6c6
   "metadata": {},
   "outputs": [
    {
     "name": "stdout",
     "output_type": "stream",
     "text": [
      "Train Accuracy: 0.9732496633029493\n",
      "Train F1 Score: 0.9727820722018049\n",
      "Train Precision Score: 0.9740592278597018\n",
      "Train Recall Score: 0.9732496633029493\n",
      "Train G-Mean Score: 0.9487868392207522\n"
     ]
    }
   ],
   "source": [
    "y_pred_train = clf.predict(X_train)\n",
    "\n",
    "# Measuring performace of train data\n",
    "train_accuracy = accuracy_score(y_train, y_pred_train)\n",
    "train_f1_score = f1_score(y_train, y_pred_train, average='weighted')\n",
    "train_precision_score = precision_score(y_train, y_pred_train, average='weighted')\n",
    "train_recall_score = recall_score(y_train, y_pred_train, average='weighted')\n",
    "\n",
    "cm = confusion_matrix(y_train, y_pred_train)\n",
    "TN = cm[0][0]\n",
    "FN = cm[1][0]\n",
    "TP = cm[1][1]\n",
    "FP = cm[0][1]\n",
    "train_g_mean = math.sqrt(TP*TN*1.0/((TP+FN)*(TN+FP)))\n",
    "\n",
    "print('Train Accuracy:', train_accuracy)\n",
    "print('Train F1 Score:', train_f1_score)\n",
    "print('Train Precision Score:', train_precision_score)\n",
    "print('Train Recall Score:', train_recall_score)\n",
    "print('Train G-Mean Score:', train_g_mean)"
   ]
  },
  {
   "cell_type": "code",
<<<<<<< HEAD
   "execution_count": 103,
=======
<<<<<<< HEAD
   "execution_count": 9,
=======
   "execution_count": 27,
>>>>>>> 733a1c445c3c1e065564d7bd99882d1cc07c7f7a
   "id": "1eaf1676",
>>>>>>> e1bca343a9ee5eccd83970b2b692c30673d5d6c6
   "metadata": {},
   "outputs": [
    {
     "name": "stdout",
     "output_type": "stream",
     "text": [
<<<<<<< HEAD
      "Test Accuracy: 0.7192367246561617\n",
      "Test F1 Score: 0.644623184445149\n",
      "Test Precision Score: 0.6237548701302242\n",
      "Test Recall Score: 0.7192367246561617\n",
      "Test G-Mean Score: 0.2688822084661612\n"
=======
<<<<<<< HEAD
      "{'large', 'small', 'fit'}\n",
      "{'small', 'fit'}\n",
=======
      "{'large', 'fit', 'small'}\n",
      "{'large', 'fit', 'small'}\n",
>>>>>>> e1bca343a9ee5eccd83970b2b692c30673d5d6c6
      "21958\n",
      "13773\n",
      "16146\n",
      "Test Accuracy: 0.5874851990163038\n",
      "Test F1 Score: 0.6065264203968393\n"
>>>>>>> 733a1c445c3c1e065564d7bd99882d1cc07c7f7a
     ]
    }
   ],
   "source": [
    "# Generating test features\n",
    "X_test = [feature(d) for d in test_data]\n",
    "y_test = [d['fit'] for d in test_data]\n",
    "y_pred_test = clf.predict(X_test)\n",
    "\n",
    "# Measuring performace of test data\n",
    "test_accuracy = accuracy_score(y_test, y_pred_test)\n",
    "test_f1_score = f1_score(y_test, y_pred_test, average='weighted')\n",
    "test_precision_score = precision_score(y_test, y_pred_test, average='weighted')\n",
    "test_recall_score = recall_score(y_test, y_pred_test, average='weighted')\n",
    "\n",
    "cm = confusion_matrix(y_test, y_pred_test)\n",
    "TN = cm[0][0]\n",
    "FN = cm[1][0]\n",
    "TP = cm[1][1]\n",
    "FP = cm[0][1]\n",
    "test_g_mean = math.sqrt(TP*TN*1.0/((TP+FN)*(TN+FP)))\n",
    "print('Test Accuracy:', test_accuracy)\n",
    "print('Test F1 Score:', test_f1_score)\n",
    "print('Test Precision Score:', test_precision_score)\n",
    "print('Test Recall Score:', test_recall_score)\n",
    "print('Test G-Mean Score:', test_g_mean)"
   ]
  },
  {
   "cell_type": "code",
<<<<<<< HEAD
   "execution_count": 104,
=======
<<<<<<< HEAD
   "execution_count": 10,
=======
   "execution_count": 28,
>>>>>>> 733a1c445c3c1e065564d7bd99882d1cc07c7f7a
   "id": "ed9601bc",
>>>>>>> e1bca343a9ee5eccd83970b2b692c30673d5d6c6
   "metadata": {},
   "outputs": [
    {
     "name": "stdout",
     "output_type": "stream",
     "text": [
      "Validation Accuracy: 0.7194061119460764\n",
      "Validation F1 Score: 0.6468193537482986\n",
      "Validation Precision Score: 0.6237548701302242\n",
      "Validation Recall Score: 0.7192367246561617\n",
      "Validation G-Mean Score: 0.2673709931564164\n"
     ]
    }
   ],
   "source": [
    "# Generating validation features\n",
    "X_val = [feature(d) for d in validation_data]\n",
    "y_val = [d['fit'] for d in validation_data]\n",
    "y_pred_val = clf.predict(X_val)\n",
    "\n",
    "# Measuring performace of validation data\n",
    "val_accuracy = accuracy_score(y_val, y_pred_val)\n",
    "val_f1_score = f1_score(y_val, y_pred_val, average='weighted')\n",
    "val_precision_score = precision_score(y_test, y_pred_test, average='weighted')\n",
    "val_recall_score = recall_score(y_test, y_pred_test, average='weighted')\n",
    "\n",
    "cm = confusion_matrix(y_val, y_pred_val)\n",
    "TN = cm[0][0]\n",
    "FN = cm[1][0]\n",
    "TP = cm[1][1]\n",
    "FP = cm[0][1]\n",
    "val_g_mean = math.sqrt(TP*TN*1.0/((TP+FN)*(TN+FP)))\n",
    "print('Validation Accuracy:', val_accuracy)\n",
    "print('Validation F1 Score:', val_f1_score)\n",
    "print('Validation Precision Score:', val_precision_score)\n",
    "print('Validation Recall Score:', val_recall_score)\n",
    "print('Validation G-Mean Score:', val_g_mean)"
   ]
  }
 ],
 "metadata": {
  "kernelspec": {
   "display_name": "Python 3",
   "language": "python",
   "name": "python3"
  },
  "language_info": {
   "codemirror_mode": {
    "name": "ipython",
    "version": 3
   },
   "file_extension": ".py",
   "mimetype": "text/x-python",
   "name": "python",
   "nbconvert_exporter": "python",
   "pygments_lexer": "ipython3",
   "version": "3.8.5"
  }
 },
 "nbformat": 4,
 "nbformat_minor": 5
}
