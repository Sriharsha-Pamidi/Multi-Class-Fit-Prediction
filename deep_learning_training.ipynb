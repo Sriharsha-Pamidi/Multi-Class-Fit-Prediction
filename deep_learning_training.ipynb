{
 "cells": [
  {
   "cell_type": "code",
   "execution_count": 101,
   "id": "6905bd0d",
   "metadata": {},
   "outputs": [],
   "source": [
    "import pandas as pd\n",
    "import numpy as np\n",
    "from sklearn.linear_model import LogisticRegression\n",
    "from sklearn.metrics import accuracy_score, f1_score\n",
    "from tensorflow import keras\n",
    "from keras.models import Sequential\n",
    "from keras.layers import Dense, Dropout\n",
    "from keras.optimizers import SGD\n",
    "from collections import defaultdict"
   ]
  },
  {
   "cell_type": "code",
   "execution_count": 2,
   "id": "4db5668a",
   "metadata": {},
   "outputs": [],
   "source": [
    "from numpy import mean\n",
    "from numpy import std\n",
    "from sklearn.datasets import make_multilabel_classification\n",
    "from sklearn.model_selection import RepeatedKFold\n",
    "from keras.models import Sequential\n",
    "from keras.layers import Dense\n",
    "from sklearn.metrics import accuracy_score"
   ]
  },
  {
   "cell_type": "code",
   "execution_count": 21,
   "id": "562d0d56",
   "metadata": {},
   "outputs": [],
   "source": [
    "# Reading the data\n",
    "dataset = pd.read_json('renttherunway_final_data.json.gz', lines=True)\n",
    "dataset = dataset.dropna()\n",
    "\n",
    "# 0 = Small, 1 = Fit, 2 = Large\n",
    "dataset.loc[dataset[\"fit\"] == \"small\", \"fit\"] = 0\n",
    "\n",
    "dataset.loc[dataset[\"fit\"] == \"fit\", \"fit\"] = 1\n",
    "\n",
    "dataset.loc[dataset[\"fit\"] == \"large\", \"fit\"] = 2"
   ]
  },
  {
   "cell_type": "code",
   "execution_count": 102,
   "id": "87f3ef4f",
   "metadata": {},
   "outputs": [],
   "source": [
    "# Converting the data into list of dictionaries\n",
    "data = pd.DataFrame(dataset).to_dict('record')\n",
    "\n",
    "for d in data:\n",
    "    d['weight'] = int(d['weight'].split('lbs')[0])\n",
    "    if(int(d['height'].split(' ')[1].split('\"')[0])<10):\n",
    "        height2 = int(d['height'].split(' ')[1].split('\"')[0])*10\n",
    "    else:\n",
    "        height2 = int(d['height'].split(' ')[1].split('\"')[0])\n",
    "    d['height'] = int(d['height'][0][0])*100+height2\n",
    "    \n",
    "####converting categroies type to one hot\n",
    "catogeries = ['rented for','body type']\n",
    "for cat in catogeries:\n",
    "    categories_list = defaultdict(int)\n",
    "    for d in data:\n",
    "        categories_list[d[cat]] += 1\n",
    "        \n",
    "    categories_id = defaultdict(int)\n",
    "\n",
    "    i = 0\n",
    "    for cID in  categories_list:\n",
    "        categories_id[cID] = i\n",
    "        i+=1\n",
    "    for d in data:\n",
    "        f = [0]*len(categories_list)\n",
    "        f[categories_id[d[cat]]] = 1\n",
    "        d[cat] = f[:len(categories_list)-1]"
   ]
  },
  {
   "cell_type": "code",
   "execution_count": null,
   "id": "b76727f5",
   "metadata": {},
   "outputs": [],
   "source": [
    "# Extracting features from the data\n",
    "def feature(d):\n",
    "    f = [1, d['rating'], len(d['review_text']), len(d['review_summary'])]\n",
    "    return np.array(f)"
   ]
  },
  {
   "cell_type": "code",
   "execution_count": 265,
   "id": "8c850956",
   "metadata": {},
   "outputs": [],
   "source": [
    "# Add features\n",
    "df = []\n",
    "for d in data:\n",
    "    arr = []\n",
    "#     arr.append(d['weight'])\n",
    "    arr.append(d['rating'])\n",
    "    arr += d['rented for']\n",
    "    arr.append(len(d['review_text']))\n",
    "    arr += d['body type']\n",
    "#     arr.append(d['height'])\n",
    "    arr.append(d['size'])\n",
    "#     arr.append(d['age'])\n",
    "    df.append(arr)"
   ]
  },
  {
   "cell_type": "code",
   "execution_count": 266,
   "id": "fc7e33f7",
   "metadata": {},
   "outputs": [],
   "source": [
    "y = dataset[\"fit\"]\n",
    "\n",
    "y_cat = to_categorical(y)\n",
    "\n",
    "# Split data\n",
    "test_y = y_cat[int(len(y_cat) * .8):]\n",
    "train_y = y_cat[:int(len(y_cat) * .8)]\n",
    "test_f = df[int(len(y_cat) * .8):]\n",
    "train_f = df[:int(len(y_cat) * .8)]\n",
    "\n",
    "# Convert to numpy array.\n",
    "test_f = np.array(test_f)\n",
    "train_f = np.array(train_f)"
   ]
  },
  {
   "cell_type": "code",
   "execution_count": 267,
   "id": "f2e61e98",
   "metadata": {},
   "outputs": [
    {
     "name": "stdout",
     "output_type": "stream",
     "text": [
      "Model: \"sequential_43\"\n",
      "_________________________________________________________________\n",
      "Layer (type)                 Output Shape              Param #   \n",
      "=================================================================\n",
      "dense_99 (Dense)             (None, 60)                1080      \n",
      "_________________________________________________________________\n",
      "dense_100 (Dense)            (None, 40)                2440      \n",
      "_________________________________________________________________\n",
      "dropout_28 (Dropout)         (None, 40)                0         \n",
      "_________________________________________________________________\n",
      "dense_101 (Dense)            (None, 3)                 123       \n",
      "=================================================================\n",
      "Total params: 3,643\n",
      "Trainable params: 3,643\n",
      "Non-trainable params: 0\n",
      "_________________________________________________________________\n"
     ]
    }
   ],
   "source": [
    "model = Sequential()\n",
    "model.add(Dense(60, input_shape = (len(train_f[0]), ), activation = \"relu\"))\n",
    "model.add(Dense(40, activation = \"relu\"))\n",
    "model.add(Dropout(0.1))\n",
    "model.add(Dense(3, activation = \"softmax\"))\n",
    "model.compile(Adam(lr = 0.001), \"categorical_crossentropy\", metrics = [\"accuracy\"])\n",
    "model.summary()"
   ]
  },
  {
   "cell_type": "code",
   "execution_count": 268,
   "id": "0a3a76bb",
   "metadata": {},
   "outputs": [
    {
     "name": "stdout",
     "output_type": "stream",
     "text": [
      "Epoch 1/10\n",
      "117104/117104 [==============================] - 3s 28us/step - loss: 0.8589 - accuracy: 0.7276\n",
      "Epoch 2/10\n",
      "117104/117104 [==============================] - 3s 26us/step - loss: 0.7409 - accuracy: 0.7356\n",
      "Epoch 3/10\n",
      "117104/117104 [==============================] - 3s 26us/step - loss: 0.7372 - accuracy: 0.7357\n",
      "Epoch 4/10\n",
      "117104/117104 [==============================] - 3s 27us/step - loss: 0.7331 - accuracy: 0.7357\n",
      "Epoch 5/10\n",
      "117104/117104 [==============================] - 3s 28us/step - loss: 0.7293 - accuracy: 0.7357\n",
      "Epoch 6/10\n",
      "117104/117104 [==============================] - 4s 34us/step - loss: 0.7278 - accuracy: 0.7358\n",
      "Epoch 7/10\n",
      "117104/117104 [==============================] - 3s 27us/step - loss: 0.7260 - accuracy: 0.7362\n",
      "Epoch 8/10\n",
      "117104/117104 [==============================] - 3s 27us/step - loss: 0.7222 - accuracy: 0.7361\n",
      "Epoch 9/10\n",
      "117104/117104 [==============================] - 3s 28us/step - loss: 0.7211 - accuracy: 0.7361\n",
      "Epoch 10/10\n",
      "117104/117104 [==============================] - 3s 28us/step - loss: 0.7189 - accuracy: 0.7362\n"
     ]
    },
    {
     "data": {
      "text/plain": [
       "<keras.callbacks.callbacks.History at 0x164d4c730>"
      ]
     },
     "execution_count": 268,
     "metadata": {},
     "output_type": "execute_result"
    }
   ],
   "source": [
    "model.fit(train_f, train_y, verbose=1, epochs=10)"
   ]
  },
  {
   "cell_type": "code",
   "execution_count": 269,
   "id": "c3f4b89c",
   "metadata": {},
   "outputs": [
    {
     "data": {
      "text/plain": [
       "array([[   91,  3840,    11],\n",
       "       [   82, 21475,    22],\n",
       "       [   38,  3697,    21]])"
      ]
     },
     "execution_count": 269,
     "metadata": {},
     "output_type": "execute_result"
    }
   ],
   "source": [
    "# Confusion matrix\n",
    "y_pred_class = model.predict_classes(test_f)\n",
    "from sklearn.metrics import confusion_matrix\n",
    "y_pred = model.predict(test_f)\n",
    "y_test_class = np.argmax(test_y, axis=1)\n",
    "confusion_matrix(y_test_class, y_pred_class)"
   ]
  },
  {
   "cell_type": "code",
   "execution_count": 270,
   "id": "957d88b9",
   "metadata": {},
   "outputs": [
    {
     "name": "stdout",
     "output_type": "stream",
     "text": [
      "              precision    recall  f1-score   support\n",
      "\n",
      "           0       0.43      0.02      0.04      3942\n",
      "           1       0.74      1.00      0.85     21579\n",
      "           2       0.39      0.01      0.01      3756\n",
      "\n",
      "    accuracy                           0.74     29277\n",
      "   macro avg       0.52      0.34      0.30     29277\n",
      "weighted avg       0.65      0.74      0.63     29277\n",
      "\n"
     ]
    }
   ],
   "source": [
    "# Classification report.\n",
    "from sklearn.metrics import classification_report\n",
    "print(classification_report(y_test_class, y_pred_class))"
   ]
  },
  {
   "cell_type": "code",
   "execution_count": null,
   "id": "e32f6f6a",
   "metadata": {},
   "outputs": [],
   "source": []
  }
 ],
 "metadata": {
  "kernelspec": {
   "display_name": "Python 3 (ipykernel)",
   "language": "python",
   "name": "python3"
  },
  "language_info": {
   "codemirror_mode": {
    "name": "ipython",
    "version": 3
   },
   "file_extension": ".py",
   "mimetype": "text/x-python",
   "name": "python",
   "nbconvert_exporter": "python",
   "pygments_lexer": "ipython3",
   "version": "3.7.10"
  }
 },
 "nbformat": 4,
 "nbformat_minor": 5
}
