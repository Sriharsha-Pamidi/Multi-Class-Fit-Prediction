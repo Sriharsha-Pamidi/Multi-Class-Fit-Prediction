{
 "cells": [
  {
   "cell_type": "code",
   "execution_count": 4,
   "id": "dd83fb59",
   "metadata": {},
   "outputs": [],
   "source": [
    "import pandas as pd\n",
    "import numpy as np\n",
    "from sklearn.linear_model import LogisticRegression\n",
    "from sklearn.metrics import accuracy_score, f1_score\n",
    "from collections import defaultdict\n",
    "from sklearn.svm import SVC\n",
    "import json"
   ]
  },
  {
   "cell_type": "code",
   "execution_count": 19,
   "id": "0b17c450",
   "metadata": {},
   "outputs": [],
   "source": [
    "# Reading the data\n",
    "dataset = pd.read_json('renttherunway_final_data.json.gz', lines=True)\n",
    "dataset = dataset.dropna()\n",
    "##dropping specific valued rows\n",
    "dataset = dataset.drop(dataset[dataset['rented for']== \"party: cocktail\"].index)\n"
   ]
  },
  {
   "cell_type": "code",
   "execution_count": 6,
   "id": "ce818935",
   "metadata": {},
   "outputs": [
    {
     "name": "stderr",
     "output_type": "stream",
     "text": [
      "/var/folders/k1/8rzpzwts3v157rp8ykz5w_xm0000gn/T/ipykernel_2598/1497192754.py:2: FutureWarning: Using short name for 'orient' is deprecated. Only the options: ('dict', list, 'series', 'split', 'records', 'index') will be used in a future version. Use one of the above to silence this warning.\n",
      "  data = pd.DataFrame(dataset).to_dict('record')\n"
     ]
    }
   ],
   "source": [
    "# Converting the data into list of dictionaries\n",
    "data = pd.DataFrame(dataset).to_dict('record')"
   ]
  },
  {
   "cell_type": "code",
   "execution_count": 4,
   "id": "5f80f99a",
   "metadata": {},
   "outputs": [],
   "source": [
    "##converting wieght and height\n",
    "for d in data:\n",
    "    d['weight'] = int(d['weight'].split('lbs')[0])\n",
    "    d['height'] = int(d['height'].split(' ')[0][:-1])*12 + int(d['height'].split(' ')[1][:-1])\n",
    "# data\n",
    "# # int(test_data[0]['weight'].split('lbs')[0])\n",
    "# # print(test_data[0]['height'].split(' ')[0][0])\n",
    "# # print(test_data[0]['height'].split(' ')[1].split('\"')[0])"
   ]
  },
  {
   "cell_type": "code",
   "execution_count": 6,
   "id": "f53e3751",
   "metadata": {},
   "outputs": [],
   "source": [
    "####converting categroies type to one hot\n",
    "catogeries = ['rented for','body type']\n",
    "for cat in catogeries:\n",
    "    categories_list = defaultdict(int)\n",
    "    for d in data:\n",
    "        categories_list[d[cat]] += 1\n",
    "        \n",
    "    categories_id = defaultdict(int)\n",
    "\n",
    "    i = 0\n",
    "    for cID in  categories_list:\n",
    "        categories_id[cID] = i\n",
    "        i+=1\n",
    "    for d in data:\n",
    "        f = [0]*len(categories_list)\n",
    "        f[categories_id[d[cat]]] = 1\n",
    "        d[cat] = f[:len(categories_list)-1]"
   ]
  },
  {
   "cell_type": "code",
   "execution_count": 8,
   "id": "f9f9faf7",
   "metadata": {},
   "outputs": [],
   "source": [
    "# data"
   ]
  },
  {
   "cell_type": "code",
   "execution_count": 15,
   "id": "bc7f0981",
   "metadata": {},
   "outputs": [],
   "source": [
    "## finding different sets with only one value of a attribute\n",
    "dropValues = defaultdict(list)\n",
    "attributes = ['age']\n",
    "for att in attributes:\n",
    "    ones = dataset[att].value_counts()==1\n",
    "    dropValues[att] = list(ones[ones==True].keys())\n",
    "    "
   ]
  },
  {
   "cell_type": "code",
   "execution_count": 18,
   "id": "227590cc",
   "metadata": {},
   "outputs": [
    {
     "name": "stdout",
     "output_type": "stream",
     "text": [
      "146368\n",
      "146368\n"
     ]
    }
   ],
   "source": [
    "print(len(dataset))\n",
    "for att in attributes:\n",
    "    for dV in dropValues[att]:\n",
    "        dataset = dataset.drop(dataset[dataset[att]==dV].index)\n",
    "\n",
    "print(len(dataset))"
   ]
  },
  {
   "cell_type": "code",
   "execution_count": null,
   "id": "618961d7",
   "metadata": {},
   "outputs": [],
   "source": []
  }
 ],
 "metadata": {
  "kernelspec": {
   "display_name": "Python 3 (ipykernel)",
   "language": "python",
   "name": "python3"
  },
  "language_info": {
   "codemirror_mode": {
    "name": "ipython",
    "version": 3
   },
   "file_extension": ".py",
   "mimetype": "text/x-python",
   "name": "python",
   "nbconvert_exporter": "python",
   "pygments_lexer": "ipython3",
   "version": "3.9.7"
  }
 },
 "nbformat": 4,
 "nbformat_minor": 5
}
