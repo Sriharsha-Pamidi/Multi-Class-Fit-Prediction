{
 "cells": [
  {
   "cell_type": "code",
   "execution_count": 1,
   "id": "32387f3d",
   "metadata": {},
   "outputs": [],
   "source": [
    "import pandas as pd\n",
    "import numpy as np\n",
    "from sklearn.linear_model import LogisticRegression\n",
    "from sklearn.metrics import accuracy_score, f1_score\n",
    "from collections import defaultdict\n",
    "from sklearn.svm import SVC\n",
    "import json"
   ]
  },
  {
   "cell_type": "code",
   "execution_count": 2,
   "id": "a9f52947",
   "metadata": {},
   "outputs": [],
   "source": [
    "# Reading the data\n",
    "dataset = pd.read_json('renttherunway_final_data.json.gz', lines=True)\n",
    "dataset = dataset.dropna()\n",
    "\n"
   ]
  },
  {
   "cell_type": "code",
   "execution_count": 3,
   "id": "81687d30",
   "metadata": {},
   "outputs": [
    {
     "name": "stderr",
     "output_type": "stream",
     "text": [
      "/var/folders/k1/8rzpzwts3v157rp8ykz5w_xm0000gn/T/ipykernel_13648/1497192754.py:2: FutureWarning: Using short name for 'orient' is deprecated. Only the options: ('dict', list, 'series', 'split', 'records', 'index') will be used in a future version. Use one of the above to silence this warning.\n",
      "  data = pd.DataFrame(dataset).to_dict('record')\n"
     ]
    }
   ],
   "source": [
    "# Converting the data into list of dictionaries\n",
    "data = pd.DataFrame(dataset).to_dict('record')"
   ]
  },
  {
   "cell_type": "code",
   "execution_count": 4,
   "id": "125590c4",
   "metadata": {},
   "outputs": [],
   "source": [
    "##converting wieght and height\n",
    "for d in data:\n",
    "    d['weight'] = int(d['weight'].split('lbs')[0])\n",
    "    if(int(d['height'].split(' ')[1].split('\"')[0])<10):\n",
    "        height2 = int(d['height'].split(' ')[1].split('\"')[0])*10\n",
    "    else:\n",
    "        height2 = int(d['height'].split(' ')[1].split('\"')[0])\n",
    "    d['height'] = int(d['height'][0][0])*100+height2\n",
    "# data\n",
    "# # int(test_data[0]['weight'].split('lbs')[0])\n",
    "# # print(test_data[0]['height'].split(' ')[0][0])\n",
    "# # print(test_data[0]['height'].split(' ')[1].split('\"')[0])"
   ]
  },
  {
   "cell_type": "code",
   "execution_count": 5,
   "id": "64acdd6e",
   "metadata": {},
   "outputs": [
    {
     "ename": "NameError",
     "evalue": "name 'rfID' is not defined",
     "output_type": "error",
     "traceback": [
      "\u001b[0;31m---------------------------------------------------------------------------\u001b[0m",
      "\u001b[0;31mNameError\u001b[0m                                 Traceback (most recent call last)",
      "\u001b[0;32m/var/folders/k1/8rzpzwts3v157rp8ykz5w_xm0000gn/T/ipykernel_13648/4173800050.py\u001b[0m in \u001b[0;36m<module>\u001b[0;34m\u001b[0m\n\u001b[1;32m     10\u001b[0m     \u001b[0mi\u001b[0m \u001b[0;34m=\u001b[0m \u001b[0;36m0\u001b[0m\u001b[0;34m\u001b[0m\u001b[0;34m\u001b[0m\u001b[0m\n\u001b[1;32m     11\u001b[0m     \u001b[0;32mfor\u001b[0m \u001b[0mcID\u001b[0m \u001b[0;32min\u001b[0m  \u001b[0mcategories_list\u001b[0m\u001b[0;34m:\u001b[0m\u001b[0;34m\u001b[0m\u001b[0;34m\u001b[0m\u001b[0m\n\u001b[0;32m---> 12\u001b[0;31m         \u001b[0mcategories_id\u001b[0m\u001b[0;34m[\u001b[0m\u001b[0mrfID\u001b[0m\u001b[0;34m]\u001b[0m \u001b[0;34m=\u001b[0m \u001b[0mi\u001b[0m\u001b[0;34m\u001b[0m\u001b[0;34m\u001b[0m\u001b[0m\n\u001b[0m\u001b[1;32m     13\u001b[0m         \u001b[0mi\u001b[0m\u001b[0;34m+=\u001b[0m\u001b[0;36m1\u001b[0m\u001b[0;34m\u001b[0m\u001b[0;34m\u001b[0m\u001b[0m\n\u001b[1;32m     14\u001b[0m     \u001b[0;32mfor\u001b[0m \u001b[0md\u001b[0m \u001b[0;32min\u001b[0m \u001b[0mdata\u001b[0m\u001b[0;34m:\u001b[0m\u001b[0;34m\u001b[0m\u001b[0;34m\u001b[0m\u001b[0m\n",
      "\u001b[0;31mNameError\u001b[0m: name 'rfID' is not defined"
     ]
    }
   ],
   "source": [
    "####converting categroies type to one hot\n",
    "catogeries = ['rented for','body type']\n",
    "for cat in catogeries:\n",
    "    categories_list = defaultdict(int)\n",
    "    for d in data:\n",
    "        categories_list[d[cat]] += 1\n",
    "        \n",
    "    categories_id = defaultdict(int)\n",
    "\n",
    "    i = 0\n",
    "    for cID in  categories_list:\n",
    "        categories_id[rfID] = i\n",
    "        i+=1\n",
    "    for d in data:\n",
    "        f = [0]*len(categories_list)\n",
    "        f[categories_id[d[cat]]] = 1\n",
    "        d[cat] = f[:len(categories_list)-1]"
   ]
  },
  {
   "cell_type": "code",
   "execution_count": null,
   "id": "1c6a435b",
   "metadata": {},
   "outputs": [],
   "source": []
  }
 ],
 "metadata": {
  "kernelspec": {
   "display_name": "Python 3 (ipykernel)",
   "language": "python",
   "name": "python3"
  },
  "language_info": {
   "codemirror_mode": {
    "name": "ipython",
    "version": 3
   },
   "file_extension": ".py",
   "mimetype": "text/x-python",
   "name": "python",
   "nbconvert_exporter": "python",
   "pygments_lexer": "ipython3",
   "version": "3.9.7"
  }
 },
 "nbformat": 4,
 "nbformat_minor": 5
}
